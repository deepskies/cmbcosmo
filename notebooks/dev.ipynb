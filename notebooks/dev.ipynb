{
 "cells": [
  {
   "cell_type": "markdown",
   "id": "a5a4299c-6134-47be-949f-1650ed203f6a",
   "metadata": {},
   "source": [
    "the goal here is to set up barebones inference framework. things needed:\n",
    "- data vector\n",
    "- simulator or likelihood\n",
    "- chainconsumer for posterior plotting"
   ]
  },
  {
   "cell_type": "code",
   "execution_count": 43,
   "id": "5f53ccf8-fcb3-4146-83ed-379b10bf3c76",
   "metadata": {},
   "outputs": [],
   "source": [
    "import numpy as np\n",
    "import emcee\n",
    "import matplotlib.pyplot as plt\n",
    "from chainconsumer import ChainConsumer\n",
    "\n",
    "%matplotlib inline"
   ]
  },
  {
   "cell_type": "markdown",
   "id": "9bb1d569-27b0-4ade-be94-abc8c542da15",
   "metadata": {},
   "source": [
    "### construct the data vector"
   ]
  },
  {
   "cell_type": "code",
   "execution_count": 44,
   "id": "911d4dc1-621e-4f74-980e-a036a264160e",
   "metadata": {},
   "outputs": [],
   "source": [
    "# get the power spectrum from the base config\n",
    "import deepcmbsim as dcs\n",
    "\n",
    "config_obj = dcs.config_obj()\n",
    "power_spectrum = dcs.CAMBPowerSpectrum(config_obj)"
   ]
  },
  {
   "cell_type": "code",
   "execution_count": 45,
   "id": "a5ff28b6-9e6d-411a-a79c-6bb211baced4",
   "metadata": {},
   "outputs": [
    {
     "data": {
      "text/plain": [
       "{'FORCAMB': {'DoLensing': True},\n",
       " 'ITERABLES': {'InitPower.r': array([0.01 , 0.055, 0.1  ]),\n",
       "  'Alens': array([0.8, 1. , 1.2])},\n",
       " 'seed': 0,\n",
       " 'verbose': 1,\n",
       " 'normalize_cls': False,\n",
       " 'TT_units': 'muK',\n",
       " 'outfile_dir': 'outfiles',\n",
       " 'noise_type': 'white',\n",
       " 'noise_uKarcmin': 5,\n",
       " 'beamfwhm_arcmin': 3,\n",
       " 'extra_l': 300,\n",
       " 'max_l_use': 10000}"
      ]
     },
     "execution_count": 45,
     "metadata": {},
     "output_type": "execute_result"
    }
   ],
   "source": [
    "config_obj.UserParams"
   ]
  },
  {
   "cell_type": "code",
   "execution_count": 46,
   "id": "911496c3-8410-4b0d-ae34-91f523434ab9",
   "metadata": {},
   "outputs": [
    {
     "name": "stdout",
     "output_type": "stream",
     "text": [
      "updated InitPower.r in CAMBparams\n",
      "updated verbose in UserParams\n",
      "from 17:40:01.036227 P to 17:40:15.093858 P or 14.57631 seconds total\n"
     ]
    }
   ],
   "source": [
    "config_obj.update_val('InitPower.r', 0.04)\n",
    "config_obj.update_val('verbose', 1)\n",
    "data = power_spectrum.get_cls()"
   ]
  },
  {
   "cell_type": "code",
   "execution_count": 50,
   "id": "d92a5016-4a3f-4216-ae86-aaabeaacd902",
   "metadata": {},
   "outputs": [
    {
     "name": "stdout",
     "output_type": "stream",
     "text": [
      "updated InitPower.r in CAMBparams\n",
      "updated verbose in UserParams\n"
     ]
    }
   ],
   "source": [
    "config_obj.update_val('InitPower.r', 0.04)\n",
    "config_obj.update_val('verbose', 0)\n",
    "data = power_spectrum.get_cls()"
   ]
  },
  {
   "cell_type": "code",
   "execution_count": 51,
   "id": "47de58d7-de6a-43a3-9e51-3d78bf9fc37b",
   "metadata": {},
   "outputs": [
    {
     "data": {
      "text/plain": [
       "{'l': range(0, 10001),\n",
       " 'clTT': array([2.11539875e-06, 2.11539933e-06, 1.03574282e+03, ...,\n",
       "        2.01387506e+00, 2.01927781e+00, 2.02471079e+00]),\n",
       " 'clEE': array([4.23079750e-06, 4.23079866e-06, 3.11867406e-02, ...,\n",
       "        3.88227153e+00, 3.89294573e+00, 3.90365036e+00]),\n",
       " 'clBB': array([4.23079750e-06, 4.23079866e-06, 6.02677017e-04, ...,\n",
       "        3.88202227e+00, 3.89269656e+00, 3.90340128e+00]),\n",
       " 'clTE': array([4.23079750e-06, 4.23079866e-06, 2.62014389e+00, ...,\n",
       "        3.88023433e+00, 3.89090944e+00, 3.90161504e+00]),\n",
       " 'clPP': array([0.00000000e+00, 0.00000000e+00, 5.01389375e-08, ...,\n",
       "        6.65085973e-11, 6.64838641e-11, 6.64591394e-11]),\n",
       " 'clPT': array([0.00000000e+00, 0.00000000e+00, 1.09584897e-09, ...,\n",
       "        1.07894364e-15, 1.07664079e-15, 1.07433516e-15]),\n",
       " 'clPE': array([ 0.00000000e+00,  0.00000000e+00, -4.57837602e-12, ...,\n",
       "         2.49864228e-19,  2.49924666e-19,  2.49984326e-19])}"
      ]
     },
     "execution_count": 51,
     "metadata": {},
     "output_type": "execute_result"
    }
   ],
   "source": [
    "data"
   ]
  },
  {
   "cell_type": "code",
   "execution_count": 48,
   "id": "c55e8bad-a3c6-4c15-8c66-8505cd609c9e",
   "metadata": {},
   "outputs": [],
   "source": [
    "def flatten_data(data, ignore_keys=None):\n",
    "    data_ = None\n",
    "    for key in data:\n",
    "        if key not in ignore_keys:\n",
    "            if data_ is None:\n",
    "                data_ = data[key]\n",
    "            else:\n",
    "                data_ = np.hstack([data_, data[key]])\n",
    "    return data_"
   ]
  },
  {
   "cell_type": "code",
   "execution_count": 49,
   "id": "430c455c-75f0-4ce5-85a0-7097d8c3b565",
   "metadata": {},
   "outputs": [
    {
     "data": {
      "text/plain": [
       "array([2.11539875e-06, 2.11539933e-06, 1.03574282e+03, ...,\n",
       "       2.49864228e-19, 2.49924666e-19, 2.49984326e-19])"
      ]
     },
     "execution_count": 49,
     "metadata": {},
     "output_type": "execute_result"
    }
   ],
   "source": [
    "data = flatten_data(data=data, ignore_keys=['l'])\n",
    "data"
   ]
  },
  {
   "cell_type": "markdown",
   "id": "5ec024d1-cff1-4b21-8128-9e8daab1ccfd",
   "metadata": {},
   "source": [
    "### MCMC"
   ]
  },
  {
   "cell_type": "code",
   "execution_count": 18,
   "id": "db0ef36e-f833-4737-83cb-d526bbe2aeb7",
   "metadata": {},
   "outputs": [],
   "source": [
    "def get_theory(r):\n",
    "    config_obj.update_val('InitPower.r', r)\n",
    "    return flatten_data(data=power_spectrum.get_cls(), ignore_keys=['l'])"
   ]
  },
  {
   "cell_type": "code",
   "execution_count": 8,
   "id": "0edbd5a1-b7b8-4bd3-ba43-85b4fcd4b4e8",
   "metadata": {},
   "outputs": [
    {
     "name": "stdout",
     "output_type": "stream",
     "text": [
      "updated InitPower.r in CAMBparams\n"
     ]
    }
   ],
   "source": [
    "theory_vec = get_theory(r=0.05)"
   ]
  },
  {
   "cell_type": "code",
   "execution_count": 9,
   "id": "be965e7c-64b3-47da-b67f-36717dc615be",
   "metadata": {},
   "outputs": [
    {
     "name": "stderr",
     "output_type": "stream",
     "text": [
      "/var/folders/65/525nx1215yj34f4dybrt4lzm0000gn/T/ipykernel_9238/3780771738.py:1: RuntimeWarning: invalid value encountered in divide\n",
      "  np.nansum((theory_vec - data)**2 / theory_vec)\n"
     ]
    },
    {
     "data": {
      "text/plain": [
       "2.560766707332784"
      ]
     },
     "execution_count": 9,
     "metadata": {},
     "output_type": "execute_result"
    }
   ],
   "source": [
    "np.nansum((theory_vec - data)**2 / theory_vec)"
   ]
  },
  {
   "cell_type": "code",
   "execution_count": 10,
   "id": "1cd5fa0d-ca83-488e-ae66-48c3076e9dbe",
   "metadata": {},
   "outputs": [],
   "source": [
    "# ----------------------------------------------------------------------\n",
    "def loglike(theory_vec):\n",
    "    # diff\n",
    "    delta = theory_vec - data\n",
    "    #print(len(theory_vec))\n",
    "    # cov\n",
    "    #covmat = np.diag(np.ones(len(theory_vec))) # this needs to be a full cov\n",
    "    #covinv = np.linalg.pinv(covmat)\n",
    "    \n",
    "    # calculate chi2\n",
    "    #chi2 = np.linalg.multi_dot([delta, covinv, delta])\n",
    "\n",
    "    chi2 = np.nansum((theory_vec - data)**2 / theory_vec)   # temporary measure; without cov\n",
    "    #print(f'chi2 {chi2}')\n",
    "    return -0.5 * chi2\n",
    "    \n",
    "# ----------------------------------------------------------------------\n",
    "# set up log-prior\n",
    "def log_prior(p):\n",
    "    good_to_go = True\n",
    "    # loop over all params and check to make sure this sample is within the priors\n",
    "    i, out = 0, 0\n",
    "    while good_to_go is True and i<npar:\n",
    "        if param_priors[i][0] <= p[i] <= param_priors[i][1]:\n",
    "            out += np.log( 1 / (param_priors[i][1] - param_priors[i][0]) )\n",
    "        else:\n",
    "            good_to_go = False\n",
    "        i += 1\n",
    "\n",
    "    # return out if sample is within prior ranges\n",
    "    if good_to_go:\n",
    "        return out\n",
    "    else:\n",
    "        return -np.inf\n",
    "# ----------------------------------------------------------------------\n",
    "# set up log-posterior\n",
    "def log_posterior(p):\n",
    "    #print(f'r = {p}')\n",
    "    # check to confirm that this sample is good with the priors\n",
    "    logprior = log_prior(p)\n",
    "\n",
    "    #print(f'logprior: {logprior}')\n",
    "    if not np.isfinite(logprior):\n",
    "        # i.e. value outside the prior => unlikely\n",
    "        return -np.inf\n",
    "\n",
    "    #print(f'\\nprediction: {prediction}')\n",
    "    return loglike(theory_vec=get_theory(r=p)) + logprior\n",
    "# ----------------------------------------------------------------------\n"
   ]
  },
  {
   "cell_type": "code",
   "execution_count": 13,
   "id": "dfed20b5-dfc5-40f4-a796-b4e3922cbd38",
   "metadata": {},
   "outputs": [],
   "source": [
    "# starting points for the chains\n",
    "np.random.seed(9281)\n",
    "\n",
    "nwalkers = 20\n",
    "npar = 1\n",
    "\n",
    "starts = np.array([0.01])\n",
    "starts = starts + 0.1 * np.random.randn(nwalkers, npar)\n",
    "#starts"
   ]
  },
  {
   "cell_type": "code",
   "execution_count": null,
   "id": "17cad88b-8f95-471d-8c88-cac7ce0c9ab2",
   "metadata": {
    "scrolled": true
   },
   "outputs": [],
   "source": [
    "%%time\n",
    "\n",
    "nsteps_burn, nsteps_per_chain = 10, 10\n",
    "param_priors = [[0.001, 1]]\n",
    "# set up the sampler\n",
    "sampler = emcee.EnsembleSampler(nwalkers, npar, log_posterior)\n",
    "# burn-in\n",
    "print('## burning in ... ')\n",
    "pos, prob, stat = sampler.run_mcmc(starts, nsteps_burn, progress=True)\n",
    "# now reset the sampler\n",
    "sampler.reset()\n",
    "# run the full chain now\n",
    "print('## running the full chain ... ')\n",
    "sampler.run_mcmc(pos, nsteps_per_chain, progress=True)"
   ]
  },
  {
   "cell_type": "code",
   "execution_count": 13,
   "id": "9ee2aac6-dedb-48fc-b8ac-d547fccbff70",
   "metadata": {},
   "outputs": [
    {
     "name": "stdout",
     "output_type": "stream",
     "text": [
      "truths = [0.04]\n"
     ]
    },
    {
     "data": {
      "text/plain": [
       "<Figure size 640x480 with 0 Axes>"
      ]
     },
     "metadata": {},
     "output_type": "display_data"
    },
    {
     "data": {
      "image/png": "[encoded data removed]",
      "text/plain": [
       "<Figure size 300x300 with 1 Axes>"
      ]
     },
     "metadata": {},
     "output_type": "display_data"
    }
   ],
   "source": [
    "truths = [0.04]\n",
    "print(f'truths = {truths}')\n",
    "\n",
    "param_labels = ['r']\n",
    "\n",
    "emcee_samples = sampler.get_chain(flat=True)\n",
    "\n",
    "plt.clf()\n",
    "# set up the object\n",
    "c = ChainConsumer()\n",
    "# add chain\n",
    "c.add_chain(emcee_samples, parameters=param_labels)\n",
    "c.configure(statistics='max', summary=True,\n",
    "            label_font_size=20, tick_font_size=16,\n",
    "            usetex=False, serif=False,\n",
    "            #max_ticks=5, kde=True\n",
    "            #sigmas=[0,1,2,3,4,5]\n",
    "            )\n",
    "fig = c.plotter.plot(truth=truths,\n",
    "                     #extents=[(-10, 10), (-10, 10), (-10, 10)],\n",
    "                     parameters=param_labels,\n",
    "                     figsize=(3*npar, 3*npar))\n",
    "ax_list = fig.axes\n",
    "for ax in ax_list: ax.grid(False)\n",
    "\n",
    "plt.show()"
   ]
  },
  {
   "cell_type": "raw",
   "id": "d40d93fe-54d3-43a4-b447-e4990a45e424",
   "metadata": {},
   "source": [
    "plt.clf()\n",
    "c.configure_truth(**{'color': 'red'}) #, 'linewidth': '2'})\n",
    "fig = c.plotter.plot_walks(truth=truths)\n",
    "fig.set_size_inches(2*npar, 2*npar)\n",
    "plt.show()"
   ]
  },
  {
   "cell_type": "code",
   "execution_count": 15,
   "id": "e3b440c7-6c9e-4f1b-9bdf-b9296355a474",
   "metadata": {},
   "outputs": [
    {
     "data": {
      "text/plain": [
       "<Figure size 640x480 with 0 Axes>"
      ]
     },
     "metadata": {},
     "output_type": "display_data"
    },
    {
     "data": {
      "image/png": "[encoded data removed]",
      "text/plain": [
       "<Figure size 640x480 with 2 Axes>"
      ]
     },
     "metadata": {},
     "output_type": "display_data"
    }
   ],
   "source": [
    "plt.clf()\n",
    "fig, axes = plt.subplots(2, 1)\n",
    "plt.subplots_adjust(wspace=0.2, hspace=0.3)\n",
    "\n",
    "ax = axes[0]\n",
    "ax.plot(sampler.get_log_prob(), '.-')\n",
    "ax.plot(np.max( sampler.get_log_prob(), axis=1), 'k-.', label='max')\n",
    "ax.legend()\n",
    "ax.set_xlabel('# of steps')\n",
    "ax.set_ylabel('log prob')\n",
    "#ax.set_yscale('log')\n",
    "\n",
    "ax = axes[1]\n",
    "ax.plot(np.max( sampler.get_log_prob(), axis=0), '.-')\n",
    "ax.set_xlabel('walker #')\n",
    "ax.set_ylabel('max log prob')\n",
    "\n",
    "plt.show()"
   ]
  },
  {
   "cell_type": "markdown",
   "id": "7f381afd-8399-4e63-aa5a-84d4a3da78d0",
   "metadata": {},
   "source": [
    "### SBI"
   ]
  },
  {
   "cell_type": "raw",
   "id": "06960bf1-78d4-4b5f-af10-c31c19f4f960",
   "metadata": {},
   "source": [
    "from sbi.examples.minimal import simple\n",
    "posterior = simple()\n",
    "print(posterior)"
   ]
  },
  {
   "cell_type": "code",
   "execution_count": 11,
   "id": "0edd6105-8898-409f-b9ea-a457d0bdc0ae",
   "metadata": {},
   "outputs": [],
   "source": [
    "import torch"
   ]
  },
  {
   "cell_type": "code",
   "execution_count": 7,
   "id": "179708d8-58bd-498c-bb55-2c7478bd67e3",
   "metadata": {},
   "outputs": [],
   "source": [
    "from sbi import utils as utils\n",
    "from sbi import analysis as analysis\n",
    "from sbi.inference.base import infer"
   ]
  },
  {
   "cell_type": "code",
   "execution_count": 17,
   "id": "a377d8b0-1df4-48d1-b4c6-7221fe38e68e",
   "metadata": {},
   "outputs": [
    {
     "data": {
      "text/plain": [
       "BoxUniform(Uniform(low: tensor([0.0010]), high: tensor([1.])), 1)"
      ]
     },
     "execution_count": 17,
     "metadata": {},
     "output_type": "execute_result"
    }
   ],
   "source": [
    "num_dim = 1\n",
    "\n",
    "param_priors = [[0.001, 1]]\n",
    "\n",
    "prior = utils.BoxUniform(low=[param_priors[0][0]], high=[param_priors[0][1]])\n",
    "\n",
    "prior"
   ]
  },
  {
   "cell_type": "code",
   "execution_count": 33,
   "id": "851d50ac-9697-471a-8423-919fccde369d",
   "metadata": {},
   "outputs": [
    {
     "name": "stdout",
     "output_type": "stream",
     "text": [
      "updated InitPower.r in CAMBparams\n"
     ]
    },
    {
     "data": {
      "application/vnd.jupyter.widget-view+json": {
       "model_id": "64994fb033f44bf982ca1ee3ddb3362f",
       "version_major": 2,
       "version_minor": 0
      },
      "text/plain": [
       "Running 50 simulations.:   0%|          | 0/50 [00:00<?, ?it/s]"
      ]
     },
     "metadata": {},
     "output_type": "display_data"
    },
    {
     "name": "stdout",
     "output_type": "stream",
     "text": [
      "updated InitPower.r in CAMBparams\n",
      "updated InitPower.r in CAMBparams\n",
      "updated InitPower.r in CAMBparams\n",
      "updated InitPower.r in CAMBparams\n",
      "updated InitPower.r in CAMBparams\n",
      "updated InitPower.r in CAMBparams\n",
      "updated InitPower.r in CAMBparams\n",
      "updated InitPower.r in CAMBparams\n",
      "updated InitPower.r in CAMBparams\n",
      "updated InitPower.r in CAMBparams\n",
      "updated InitPower.r in CAMBparams\n",
      "updated InitPower.r in CAMBparams\n",
      "updated InitPower.r in CAMBparams\n",
      "updated InitPower.r in CAMBparams\n",
      "updated InitPower.r in CAMBparams\n",
      "updated InitPower.r in CAMBparams\n",
      "updated InitPower.r in CAMBparams\n",
      "updated InitPower.r in CAMBparams\n",
      "updated InitPower.r in CAMBparams\n",
      "updated InitPower.r in CAMBparams\n",
      "updated InitPower.r in CAMBparams\n",
      "updated InitPower.r in CAMBparams\n",
      "updated InitPower.r in CAMBparams\n",
      "updated InitPower.r in CAMBparams\n",
      "updated InitPower.r in CAMBparams\n",
      "updated InitPower.r in CAMBparams\n",
      "updated InitPower.r in CAMBparams\n",
      "updated InitPower.r in CAMBparams\n",
      "updated InitPower.r in CAMBparams\n",
      "updated InitPower.r in CAMBparams\n",
      "updated InitPower.r in CAMBparams\n",
      "updated InitPower.r in CAMBparams\n",
      "updated InitPower.r in CAMBparams\n",
      "updated InitPower.r in CAMBparams\n",
      "updated InitPower.r in CAMBparams\n",
      "updated InitPower.r in CAMBparams\n",
      "updated InitPower.r in CAMBparams\n",
      "updated InitPower.r in CAMBparams\n",
      "updated InitPower.r in CAMBparams\n",
      "updated InitPower.r in CAMBparams\n",
      "updated InitPower.r in CAMBparams\n",
      "updated InitPower.r in CAMBparams\n",
      "updated InitPower.r in CAMBparams\n",
      "updated InitPower.r in CAMBparams\n",
      "updated InitPower.r in CAMBparams\n",
      "updated InitPower.r in CAMBparams\n",
      "updated InitPower.r in CAMBparams\n",
      "updated InitPower.r in CAMBparams\n",
      "updated InitPower.r in CAMBparams\n",
      "updated InitPower.r in CAMBparams\n"
     ]
    },
    {
     "name": "stderr",
     "output_type": "stream",
     "text": [
      "/Users/humnaawan/anaconda3/envs/cmbcosmo/lib/python3.9/site-packages/sbi/neural_nets/flow.py:141: UserWarning: In one-dimensional output space, this flow is limited to Gaussians\n",
      "  warn(\"In one-dimensional output space, this flow is limited to Gaussians\")\n"
     ]
    },
    {
     "name": "stdout",
     "output_type": "stream",
     "text": [
      " Neural network successfully converged after 83 epochs.CPU times: user 12min 45s, sys: 8.31 s, total: 12min 54s\n",
      "Wall time: 7min 11s\n"
     ]
    }
   ],
   "source": [
    "%%time\n",
    "\n",
    "posterior = infer(get_theory, prior, method=\"SNPE\", num_simulations=50)"
   ]
  },
  {
   "cell_type": "code",
   "execution_count": 37,
   "id": "78efaa9e-5f02-4315-8689-7cd8beba47f4",
   "metadata": {},
   "outputs": [
    {
     "data": {
      "application/vnd.jupyter.widget-view+json": {
       "model_id": "1ba5ca10d7db467abfb5e3b7ff138c59",
       "version_major": 2,
       "version_minor": 0
      },
      "text/plain": [
       "Drawing 1000 posterior samples:   0%|          | 0/1000 [00:00<?, ?it/s]"
      ]
     },
     "metadata": {},
     "output_type": "display_data"
    },
    {
     "name": "stdout",
     "output_type": "stream",
     "text": [
      "CPU times: user 1.03 s, sys: 467 ms, total: 1.49 s\n",
      "Wall time: 834 ms\n"
     ]
    }
   ],
   "source": [
    "%%time\n",
    "\n",
    "samples = posterior.sample((1000,), x=data)"
   ]
  },
  {
   "cell_type": "code",
   "execution_count": 38,
   "id": "84483881-331b-4d45-8da3-228b18b0bb13",
   "metadata": {},
   "outputs": [
    {
     "name": "stdout",
     "output_type": "stream",
     "text": [
      "CPU times: user 11.2 s, sys: 7.38 s, total: 18.6 s\n",
      "Wall time: 12.4 s\n"
     ]
    }
   ],
   "source": [
    "%%time\n",
    "\n",
    "log_probability = posterior.log_prob(samples, x=data)"
   ]
  },
  {
   "cell_type": "code",
   "execution_count": 39,
   "id": "d90e0dc7-9c6e-4f76-a3ee-4753b23fe13a",
   "metadata": {},
   "outputs": [
    {
     "name": "stdout",
     "output_type": "stream",
     "text": [
      "truths = [0.04]\n"
     ]
    },
    {
     "data": {
      "text/plain": [
       "<Figure size 640x480 with 0 Axes>"
      ]
     },
     "metadata": {},
     "output_type": "display_data"
    },
    {
     "data": {
      "image/png": "[encoded data removed]",
      "text/plain": [
       "<Figure size 300x300 with 1 Axes>"
      ]
     },
     "metadata": {},
     "output_type": "display_data"
    }
   ],
   "source": [
    "truths = [0.04]\n",
    "npar = 1\n",
    "print(f'truths = {truths}')\n",
    "\n",
    "param_labels = ['r']\n",
    "\n",
    "plt.clf()\n",
    "# set up the object\n",
    "c = ChainConsumer()\n",
    "# add chain\n",
    "c.add_chain(samples.cpu().detach().numpy(), parameters=param_labels)\n",
    "c.configure(statistics='max', summary=True,\n",
    "            label_font_size=20, tick_font_size=16,\n",
    "            usetex=False, serif=False,\n",
    "            #max_ticks=5, kde=True\n",
    "            #sigmas=[0,1,2,3,4,5]\n",
    "            )\n",
    "fig = c.plotter.plot(truth=truths,\n",
    "                     #extents=[(-10, 10), (-10, 10), (-10, 10)],\n",
    "                     parameters=param_labels,\n",
    "                     figsize=(3*npar, 3*npar))\n",
    "ax_list = fig.axes\n",
    "for ax in ax_list: ax.grid(False)\n",
    "\n",
    "plt.show()"
   ]
  },
  {
   "cell_type": "code",
   "execution_count": null,
   "id": "84492891-baf2-4cc9-9498-c89dc09680de",
   "metadata": {},
   "outputs": [],
   "source": []
  }
 ],
 "metadata": {
  "kernelspec": {
   "display_name": "Python 3 (ipykernel)",
   "language": "python",
   "name": "python3"
  },
  "language_info": {
   "codemirror_mode": {
    "name": "ipython",
    "version": 3
   },
   "file_extension": ".py",
   "mimetype": "text/x-python",
   "name": "python",
   "nbconvert_exporter": "python",
   "pygments_lexer": "ipython3",
   "version": "3.9.18"
  }
 },
 "nbformat": 4,
 "nbformat_minor": 5
}
